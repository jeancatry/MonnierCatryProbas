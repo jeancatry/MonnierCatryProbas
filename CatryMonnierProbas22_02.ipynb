{
 "cells": [
  {
   "cell_type": "markdown",
   "metadata": {},
   "source": [
    "# Projet info Catry Monnier Proba V\n"
   ]
  },
  {
   "cell_type": "markdown",
   "metadata": {},
   "source": [
    "## I. Partie théorique."
   ]
  },
  {
   "cell_type": "markdown",
   "metadata": {},
   "source": [
    "#### 1.\n",
    "La loi des grands nombres nous donne que:\n",
    "   pour $ (X_{n})_{n\\in\\mathbb{N}*}$ suite de variables indépendantes de même loi, intégrables:\n",
    "   $\\frac {Z_{1}+ ... + Z_{n}}{n}$ converge en moyenne et presque sûrement vers $\\mathbb{E}(X)$. La moyenne empirique des simulations conditionnelles approxime donc bien l'espérance conditionnelle sachant les profondeurs $z(x_{j_{1}}, ..., z(x_{j_{n}})$\n",
    "   \n"
   ]
  },
  {
   "cell_type": "markdown",
   "metadata": {},
   "source": [
    "#### 2.\n",
    "On suppose qu'on connait par observation les profondeurs $Z(x_{j_{1}}) = z_{j_{1}}, ..., Z(x_{j_{n}}) = z_{j_{}n}$.\n",
    "\n",
    "On se ramène à la formule explicitée dans le chapitre Probabilités IV:\n",
    "    Notons d'abord $k = N - n$\n",
    "    Alors, quitte à réarranger les indices, on peut obtenir le vecteur aléatoire gaussien U comme concaténation des vecteurs:\n",
    "    \n",
    "$V = (Z(x_{i}), i \\in \\lbrace { 1,...,N \\rbrace} \\backslash \\{j_{1}, ..., j_{n}\\}$ et $ W = (Z(x_{j_{1}}), ..., Z(x_{j_{n}}))$\n",
    "\n",
    "La matrice D de covariance de U possède les mêmes racines que Z, elle est donc également définie positive. On note $w = (z_{j_{1}}, ..., z_{j_{}n})$\n",
    "\n",
    "En notant alors $ \\begin{equation*}\n",
    "                D = \\begin{pmatrix}\n",
    "                                   D_V & D_{V,W} \\\\\n",
    "                                   D_{W,V} & D_W \n",
    "                    \\end{pmatrix}\n",
    "                   \\end{equation*}$\n",
    "                   \n",
    "On obtient d'après le chapitre probabilités IV : \n",
    "\n",
    "$$\\begin{equation}\n",
    "\\boxed{f_{Y|=w}(y) = \\frac{1}{(2\\pi)^{k/2}\\sqrt{\\det (DS_V)}}\\exp \\left(-\\frac{1}{2}\\left(y - \\psi(w)\\right)^t DS_V^{-1}\\left(y - \\psi(w))\\right)\\right)}\n",
    "\\end{equation}$$\n",
    "où $\\begin{equation}\n",
    "\\boxed{DS_V = D_V - D_{V,W}D_Z^{-1}D_{W,V}}\n",
    "\\end{equation}$ et $\\begin{equation}\n",
    "\\boxed{\\psi(w) = (\\mu + D_{V,W}D_Z^{-1}(w-\\mu))}\n",
    "\\end{equation}$\n",
    " "
   ]
  },
  {
   "cell_type": "markdown",
   "metadata": {},
   "source": [
    "#### 3.  \n",
    "Y est un vecteur de composantes gaussiennes indépendantes, toutes d'espérance nulle et de variance 1.\n",
    "\n",
    "Alors m + RY est un vecteur gaussien comme combinaison linéaire de vecteur gaussiens d'espérance $\\mathbb{E}(m + RY) = \\mathbb{E}(m) + \\mathbb{E}(RY) = m + R \\mathbb{E}(Y) =\\begin{equation}\n",
    "\\boxed{m = \\mathbb{E}(m + RY) }\\end{equation} $ et de variance $\\mathbb{V}(m + RY) = \\mathbb{E}((R,Y)^2) = R Y Y^t R^t = R I R^t = \\begin{equation}\n",
    "\\boxed{RR^t = \\mathbb{V}(m + RY)}\\end{equation}, $ "
   ]
  },
  {
   "cell_type": "markdown",
   "metadata": {},
   "source": [
    "#### 4.\n",
    "Supposons qu'on veuille simuler un vecteur aléatoire gaussien de taille p, d'espérance le vecteur contenant p fois m et de variance la matrice $p x p $ définie positive C.\n",
    " \n",
    " i) C est définie positive, on peut trouver D diagonale d'élements strictements positifs, P orthogonale telles que $PD^{1/2}D^{1/2}P^{-1} = C$. \n",
    "D'après la question précédente, le vecteur gaussien $Z = m + PD^{1/2}Y$ vérifie ces conditions, pour Y vecteur aléatoire gaussien de taille p dont les composantes sont d'espérance nulle et de variance 1.\n",
    "\n",
    " ii)Pour simuler Y, on applique l'algorithme de Box-Muller. Si p est pair, on simule p/2 paires de variables aléatoires indépendantes $U_i, V_i$ de loi uniforme sur $\\left[0, 1\\right[ $. Pour tout i on obtient alors $Y_{2i} = \\sqrt{-2\\ln(U_i)}\\cos\\left(2\\pi V_i\\right)$ et $Y_{2i+1} = \\sqrt{-2\\ln(U_i)}\\sin\\left(2\\pi V_i\\right)$. Si p est impair, on procède de même pour (p-1)/2, et on simule un dernière fois une variable aléatoire U_p de loi uniforme sur $\\left[0, 1\\right[$, indépendante des précédentes, pour compléter. Le caractère indépendant des variables aléatoires de loi gaussiennes crée est du au caractère mesurable des fonctions $ : U_i, V_i , i\\in \\{ 1, p/2 \\} \\mapsto Y_j , j\\in \\{ 1, p\\} $ et $ :  \\left \\{ \\begin {array} {r c l} U_i, V_i , i\\in \\{ 1, (p - 1)/2 \\} \\mapsto Y_j , j\\in \\{ 1, p\\} \\\\ U_p \\mapsto Y_p \\end{array} \\right.$\n",
    " \n",
    "iii) Il faut ensuite savoir comment simuler ces variables aléatoires indépendantes de loi uniforme sur $ [0, 1[$. Il existe pour cela des algorithmes plus ou moins performants tels que la méthode par congruence de Lehmer ou la méthode de Mersenne-Twister. Ces algorithme produisent des variables aléatoires approximativement indépendantes : il s'agit de bien choisir certains paramètres.\n",
    "\n",
    "En pratique, il faut bien sûr procèder aux trois étapes dans le sens inverse de celui présenté.\n",
    "    \n"
   ]
  },
  {
   "cell_type": "markdown",
   "metadata": {},
   "source": [
    "## II. Implémentation."
   ]
  },
  {
   "cell_type": "code",
   "execution_count": 97,
   "metadata": {},
   "outputs": [],
   "source": [
    "#Chargement de dépendances\n",
    "import numpy as np\n",
    "import matplotlib.pyplot as plt\n",
    "#Discrétisation\n",
    "A=0\n",
    "B=500\n",
    "N=101 #Nombre de points de discrétisation\n",
    "Delta = (B-A)/(N-1)\n",
    "discretization_indexes = np.arange(N)\n",
    "discretization = discretization_indexes*Delta\n",
    "#Paramètres du modèle\n",
    "mu=-5\n",
    "a = 50\n",
    "sigma2 = 12\n",
    "#Données\n",
    "observation_indexes = [0,20,40,60,80,100]\n",
    "depth = np.array([-11,-4,-12.8,-1,-6.5,0])\n",
    "#Indices des composantes correspondant aux observations et aux componsantes non observées\n",
    "18\n",
    "unknown_indexes=list(set(discretization_indexes)-set(observation_indexes))\n"
   ]
  },
  {
   "cell_type": "markdown",
   "metadata": {},
   "source": [
    "#### 1.\n"
   ]
  },
  {
   "cell_type": "code",
   "execution_count": 98,
   "metadata": {},
   "outputs": [],
   "source": [
    "def C(h):\n",
    "    return sigma2 * np.exp(-np.abs(h)/a)\n",
    "\n",
    "def covariance(M, a = 50, sigma2 = 12):\n",
    "    Cov = np.zeros(np.shape(M))\n",
    "    for i in range(len(Cov)):\n",
    "        for j in range(len(Cov[0])):\n",
    "            Cov[i][j] = C(M[i][j])\n",
    "    return Cov"
   ]
  },
  {
   "cell_type": "markdown",
   "metadata": {},
   "source": [
    "#### 2. "
   ]
  },
  {
   "cell_type": "code",
   "execution_count": 99,
   "metadata": {},
   "outputs": [
    {
     "name": "stdout",
     "output_type": "stream",
     "text": [
      "La matrice de distance vaut [[   0.   -5.  -10. ... -490. -495. -500.]\n",
      " [   5.    0.   -5. ... -485. -490. -495.]\n",
      " [  10.    5.    0. ... -480. -485. -490.]\n",
      " ...\n",
      " [ 490.  485.  480. ...    0.   -5.  -10.]\n",
      " [ 495.  490.  485. ...    5.    0.   -5.]\n",
      " [ 500.  495.  490. ...   10.    5.    0.]]\n"
     ]
    }
   ],
   "source": [
    "def matrix_distance(abs1, abs2):\n",
    "    m = len(abs1)\n",
    "    n = len(abs2)\n",
    "    M = np.zeros(m*n).reshape(m, n)\n",
    "    for i in range(m):\n",
    "        for j in range(n):\n",
    "            M[i, j] = abs1[i] - abs2[j]\n",
    "    return M\n",
    "\n",
    "\n",
    "M = matrix_distance(discretization, discretization)\n",
    "print(f'La matrice de distance vaut {M}')"
   ]
  },
  {
   "cell_type": "markdown",
   "metadata": {},
   "source": [
    "#### 3."
   ]
  },
  {
   "cell_type": "code",
   "execution_count": 100,
   "metadata": {},
   "outputs": [
    {
     "name": "stdout",
     "output_type": "stream",
     "text": [
      "La matrice de covariance vaut [[1.20000000e+01 1.08580490e+01 9.82476904e+00 ... 6.65419193e-04\n",
      "  6.02096185e-04 5.44799157e-04]\n",
      " [1.08580490e+01 1.20000000e+01 1.08580490e+01 ... 7.35401941e-04\n",
      "  6.65419193e-04 6.02096185e-04]\n",
      " [9.82476904e+00 1.08580490e+01 1.20000000e+01 ... 8.12744838e-04\n",
      "  7.35401941e-04 6.65419193e-04]\n",
      " ...\n",
      " [6.65419193e-04 7.35401941e-04 8.12744838e-04 ... 1.20000000e+01\n",
      "  1.08580490e+01 9.82476904e+00]\n",
      " [6.02096185e-04 6.65419193e-04 7.35401941e-04 ... 1.08580490e+01\n",
      "  1.20000000e+01 1.08580490e+01]\n",
      " [5.44799157e-04 6.02096185e-04 6.65419193e-04 ... 9.82476904e+00\n",
      "  1.08580490e+01 1.20000000e+01]]\n"
     ]
    }
   ],
   "source": [
    "Cov = covariance(M)\n",
    "\n",
    "print(f'La matrice de covariance vaut {Cov}')\n",
    "    "
   ]
  },
  {
   "cell_type": "markdown",
   "metadata": {},
   "source": [
    "#### 4."
   ]
  },
  {
   "cell_type": "code",
   "execution_count": 101,
   "metadata": {},
   "outputs": [
    {
     "name": "stdout",
     "output_type": "stream",
     "text": [
      "[[   0.  -20.  -40.  -60.  -80. -100.]\n",
      " [  20.    0.  -20.  -40.  -60.  -80.]\n",
      " [  40.   20.    0.  -20.  -40.  -60.]\n",
      " [  60.   40.   20.    0.  -20.  -40.]\n",
      " [  80.   60.   40.   20.    0.  -20.]\n",
      " [ 100.   80.   60.   40.   20.    0.]]\n",
      "[[  -5.  -10.  -15.  -20.  -25.  -30.  -35.  -40.  -45.  -50.  -55.  -60.\n",
      "   -65.  -70.  -75.  -80.  -85.  -90.  -95. -105. -110. -115. -120. -125.\n",
      "  -130. -135. -140. -145. -150. -155. -160. -165. -170. -175. -180. -185.\n",
      "  -190. -195. -205. -210. -215. -220. -225. -230. -235. -240. -245. -250.\n",
      "  -255. -260. -265. -270. -275. -280. -285. -290. -295. -305. -310. -315.\n",
      "  -320. -325. -330. -335. -340. -345. -350. -355. -360. -365. -370. -375.\n",
      "  -380. -385. -390. -395. -405. -410. -415. -420. -425. -430. -435. -440.\n",
      "  -445. -450. -455. -460. -465. -470. -475. -480. -485. -490. -495.]\n",
      " [  15.   10.    5.    0.   -5.  -10.  -15.  -20.  -25.  -30.  -35.  -40.\n",
      "   -45.  -50.  -55.  -60.  -65.  -70.  -75.  -85.  -90.  -95. -100. -105.\n",
      "  -110. -115. -120. -125. -130. -135. -140. -145. -150. -155. -160. -165.\n",
      "  -170. -175. -185. -190. -195. -200. -205. -210. -215. -220. -225. -230.\n",
      "  -235. -240. -245. -250. -255. -260. -265. -270. -275. -285. -290. -295.\n",
      "  -300. -305. -310. -315. -320. -325. -330. -335. -340. -345. -350. -355.\n",
      "  -360. -365. -370. -375. -385. -390. -395. -400. -405. -410. -415. -420.\n",
      "  -425. -430. -435. -440. -445. -450. -455. -460. -465. -470. -475.]\n",
      " [  35.   30.   25.   20.   15.   10.    5.    0.   -5.  -10.  -15.  -20.\n",
      "   -25.  -30.  -35.  -40.  -45.  -50.  -55.  -65.  -70.  -75.  -80.  -85.\n",
      "   -90.  -95. -100. -105. -110. -115. -120. -125. -130. -135. -140. -145.\n",
      "  -150. -155. -165. -170. -175. -180. -185. -190. -195. -200. -205. -210.\n",
      "  -215. -220. -225. -230. -235. -240. -245. -250. -255. -265. -270. -275.\n",
      "  -280. -285. -290. -295. -300. -305. -310. -315. -320. -325. -330. -335.\n",
      "  -340. -345. -350. -355. -365. -370. -375. -380. -385. -390. -395. -400.\n",
      "  -405. -410. -415. -420. -425. -430. -435. -440. -445. -450. -455.]\n",
      " [  55.   50.   45.   40.   35.   30.   25.   20.   15.   10.    5.    0.\n",
      "    -5.  -10.  -15.  -20.  -25.  -30.  -35.  -45.  -50.  -55.  -60.  -65.\n",
      "   -70.  -75.  -80.  -85.  -90.  -95. -100. -105. -110. -115. -120. -125.\n",
      "  -130. -135. -145. -150. -155. -160. -165. -170. -175. -180. -185. -190.\n",
      "  -195. -200. -205. -210. -215. -220. -225. -230. -235. -245. -250. -255.\n",
      "  -260. -265. -270. -275. -280. -285. -290. -295. -300. -305. -310. -315.\n",
      "  -320. -325. -330. -335. -345. -350. -355. -360. -365. -370. -375. -380.\n",
      "  -385. -390. -395. -400. -405. -410. -415. -420. -425. -430. -435.]\n",
      " [  75.   70.   65.   60.   55.   50.   45.   40.   35.   30.   25.   20.\n",
      "    15.   10.    5.    0.   -5.  -10.  -15.  -25.  -30.  -35.  -40.  -45.\n",
      "   -50.  -55.  -60.  -65.  -70.  -75.  -80.  -85.  -90.  -95. -100. -105.\n",
      "  -110. -115. -125. -130. -135. -140. -145. -150. -155. -160. -165. -170.\n",
      "  -175. -180. -185. -190. -195. -200. -205. -210. -215. -225. -230. -235.\n",
      "  -240. -245. -250. -255. -260. -265. -270. -275. -280. -285. -290. -295.\n",
      "  -300. -305. -310. -315. -325. -330. -335. -340. -345. -350. -355. -360.\n",
      "  -365. -370. -375. -380. -385. -390. -395. -400. -405. -410. -415.]\n",
      " [  95.   90.   85.   80.   75.   70.   65.   60.   55.   50.   45.   40.\n",
      "    35.   30.   25.   20.   15.   10.    5.   -5.  -10.  -15.  -20.  -25.\n",
      "   -30.  -35.  -40.  -45.  -50.  -55.  -60.  -65.  -70.  -75.  -80.  -85.\n",
      "   -90.  -95. -105. -110. -115. -120. -125. -130. -135. -140. -145. -150.\n",
      "  -155. -160. -165. -170. -175. -180. -185. -190. -195. -205. -210. -215.\n",
      "  -220. -225. -230. -235. -240. -245. -250. -255. -260. -265. -270. -275.\n",
      "  -280. -285. -290. -295. -305. -310. -315. -320. -325. -330. -335. -340.\n",
      "  -345. -350. -355. -360. -365. -370. -375. -380. -385. -390. -395.]]\n",
      "[[1.08580490e+01 9.82476904e+00 8.88981865e+00 8.04384055e+00\n",
      "  7.27836792e+00 6.58573963e+00 5.95902365e+00 5.39194757e+00\n",
      "  4.87883592e+00 4.41455329e+00 3.99445300e+00 3.61433054e+00\n",
      "  3.27038152e+00 2.95916357e+00 2.67756192e+00 2.42275822e+00\n",
      "  2.19220229e+00 1.98358666e+00 1.79482343e+00 1.46947714e+00\n",
      "  1.32963790e+00 1.20310612e+00 1.08861544e+00 9.85019983e-01\n",
      "  8.91282939e-01 8.06466153e-01 7.29720752e-01 6.60278641e-01\n",
      "  5.97444820e-01 5.40590429e-01 4.89146448e-01 4.42598009e-01\n",
      "  4.00479240e-01 3.62368601e-01 3.27884669e-01 2.96682318e-01\n",
      "  2.68449262e-01 2.42902937e-01 1.98872105e-01 1.79946922e-01\n",
      "  1.62822708e-01 1.47328079e-01 1.33307958e-01 1.20622029e-01\n",
      "  1.09143325e-01 9.87569646e-02 8.93589969e-02 8.08553640e-02\n",
      "  7.31609588e-02 6.61987730e-02 5.98991269e-02 5.41989713e-02\n",
      "  4.90412573e-02 4.43743646e-02 4.01515855e-02 3.63306569e-02\n",
      "  3.28733378e-02 2.69144126e-02 2.43531676e-02 2.20356573e-02\n",
      "  1.99386873e-02 1.80412703e-02 1.63244165e-02 1.47709428e-02\n",
      "  1.33653018e-02 1.20934251e-02 1.09425836e-02 9.90125908e-03\n",
      "  8.95902970e-03 8.10646530e-03 7.33503313e-03 6.63701244e-03\n",
      "  6.00541720e-03 5.43392619e-03 4.91681975e-03 4.44892249e-03\n",
      "  3.64246966e-03 3.29584284e-03 2.98220193e-03 2.69840789e-03\n",
      "  2.44162043e-03 2.20926952e-03 1.99902973e-03 1.80879690e-03\n",
      "  1.63666712e-03 1.48091765e-03 1.33998970e-03 1.21247282e-03\n",
      "  1.09709078e-03 9.92688787e-04 8.98221959e-04 8.12744838e-04\n",
      "  7.35401941e-04 6.65419193e-04 6.02096185e-04]\n",
      " [8.88981865e+00 9.82476904e+00 1.08580490e+01 1.20000000e+01\n",
      "  1.08580490e+01 9.82476904e+00 8.88981865e+00 8.04384055e+00\n",
      "  7.27836792e+00 6.58573963e+00 5.95902365e+00 5.39194757e+00\n",
      "  4.87883592e+00 4.41455329e+00 3.99445300e+00 3.61433054e+00\n",
      "  3.27038152e+00 2.95916357e+00 2.67756192e+00 2.19220229e+00\n",
      "  1.98358666e+00 1.79482343e+00 1.62402340e+00 1.46947714e+00\n",
      "  1.32963790e+00 1.20310612e+00 1.08861544e+00 9.85019983e-01\n",
      "  8.91282939e-01 8.06466153e-01 7.29720752e-01 6.60278641e-01\n",
      "  5.97444820e-01 5.40590429e-01 4.89146448e-01 4.42598009e-01\n",
      "  4.00479240e-01 3.62368601e-01 2.96682318e-01 2.68449262e-01\n",
      "  2.42902937e-01 2.19787667e-01 1.98872105e-01 1.79946922e-01\n",
      "  1.62822708e-01 1.47328079e-01 1.33307958e-01 1.20622029e-01\n",
      "  1.09143325e-01 9.87569646e-02 8.93589969e-02 8.08553640e-02\n",
      "  7.31609588e-02 6.61987730e-02 5.98991269e-02 5.41989713e-02\n",
      "  4.90412573e-02 4.01515855e-02 3.63306569e-02 3.28733378e-02\n",
      "  2.97450261e-02 2.69144126e-02 2.43531676e-02 2.20356573e-02\n",
      "  1.99386873e-02 1.80412703e-02 1.63244165e-02 1.47709428e-02\n",
      "  1.33653018e-02 1.20934251e-02 1.09425836e-02 9.90125908e-03\n",
      "  8.95902970e-03 8.10646530e-03 7.33503313e-03 6.63701244e-03\n",
      "  5.43392619e-03 4.91681975e-03 4.44892249e-03 4.02555153e-03\n",
      "  3.64246966e-03 3.29584284e-03 2.98220193e-03 2.69840789e-03\n",
      "  2.44162043e-03 2.20926952e-03 1.99902973e-03 1.80879690e-03\n",
      "  1.63666712e-03 1.48091765e-03 1.33998970e-03 1.21247282e-03\n",
      "  1.09709078e-03 9.92688787e-04 8.98221959e-04]\n",
      " [5.95902365e+00 6.58573963e+00 7.27836792e+00 8.04384055e+00\n",
      "  8.88981865e+00 9.82476904e+00 1.08580490e+01 1.20000000e+01\n",
      "  1.08580490e+01 9.82476904e+00 8.88981865e+00 8.04384055e+00\n",
      "  7.27836792e+00 6.58573963e+00 5.95902365e+00 5.39194757e+00\n",
      "  4.87883592e+00 4.41455329e+00 3.99445300e+00 3.27038152e+00\n",
      "  2.95916357e+00 2.67756192e+00 2.42275822e+00 2.19220229e+00\n",
      "  1.98358666e+00 1.79482343e+00 1.62402340e+00 1.46947714e+00\n",
      "  1.32963790e+00 1.20310612e+00 1.08861544e+00 9.85019983e-01\n",
      "  8.91282939e-01 8.06466153e-01 7.29720752e-01 6.60278641e-01\n",
      "  5.97444820e-01 5.40590429e-01 4.42598009e-01 4.00479240e-01\n",
      "  3.62368601e-01 3.27884669e-01 2.96682318e-01 2.68449262e-01\n",
      "  2.42902937e-01 2.19787667e-01 1.98872105e-01 1.79946922e-01\n",
      "  1.62822708e-01 1.47328079e-01 1.33307958e-01 1.20622029e-01\n",
      "  1.09143325e-01 9.87569646e-02 8.93589969e-02 8.08553640e-02\n",
      "  7.31609588e-02 5.98991269e-02 5.41989713e-02 4.90412573e-02\n",
      "  4.43743646e-02 4.01515855e-02 3.63306569e-02 3.28733378e-02\n",
      "  2.97450261e-02 2.69144126e-02 2.43531676e-02 2.20356573e-02\n",
      "  1.99386873e-02 1.80412703e-02 1.63244165e-02 1.47709428e-02\n",
      "  1.33653018e-02 1.20934251e-02 1.09425836e-02 9.90125908e-03\n",
      "  8.10646530e-03 7.33503313e-03 6.63701244e-03 6.00541720e-03\n",
      "  5.43392619e-03 4.91681975e-03 4.44892249e-03 4.02555153e-03\n",
      "  3.64246966e-03 3.29584284e-03 2.98220193e-03 2.69840789e-03\n",
      "  2.44162043e-03 2.20926952e-03 1.99902973e-03 1.80879690e-03\n",
      "  1.63666712e-03 1.48091765e-03 1.33998970e-03]\n",
      " [3.99445300e+00 4.41455329e+00 4.87883592e+00 5.39194757e+00\n",
      "  5.95902365e+00 6.58573963e+00 7.27836792e+00 8.04384055e+00\n",
      "  8.88981865e+00 9.82476904e+00 1.08580490e+01 1.20000000e+01\n",
      "  1.08580490e+01 9.82476904e+00 8.88981865e+00 8.04384055e+00\n",
      "  7.27836792e+00 6.58573963e+00 5.95902365e+00 4.87883592e+00\n",
      "  4.41455329e+00 3.99445300e+00 3.61433054e+00 3.27038152e+00\n",
      "  2.95916357e+00 2.67756192e+00 2.42275822e+00 2.19220229e+00\n",
      "  1.98358666e+00 1.79482343e+00 1.62402340e+00 1.46947714e+00\n",
      "  1.32963790e+00 1.20310612e+00 1.08861544e+00 9.85019983e-01\n",
      "  8.91282939e-01 8.06466153e-01 6.60278641e-01 5.97444820e-01\n",
      "  5.40590429e-01 4.89146448e-01 4.42598009e-01 4.00479240e-01\n",
      "  3.62368601e-01 3.27884669e-01 2.96682318e-01 2.68449262e-01\n",
      "  2.42902937e-01 2.19787667e-01 1.98872105e-01 1.79946922e-01\n",
      "  1.62822708e-01 1.47328079e-01 1.33307958e-01 1.20622029e-01\n",
      "  1.09143325e-01 8.93589969e-02 8.08553640e-02 7.31609588e-02\n",
      "  6.61987730e-02 5.98991269e-02 5.41989713e-02 4.90412573e-02\n",
      "  4.43743646e-02 4.01515855e-02 3.63306569e-02 3.28733378e-02\n",
      "  2.97450261e-02 2.69144126e-02 2.43531676e-02 2.20356573e-02\n",
      "  1.99386873e-02 1.80412703e-02 1.63244165e-02 1.47709428e-02\n",
      "  1.20934251e-02 1.09425836e-02 9.90125908e-03 8.95902970e-03\n",
      "  8.10646530e-03 7.33503313e-03 6.63701244e-03 6.00541720e-03\n",
      "  5.43392619e-03 4.91681975e-03 4.44892249e-03 4.02555153e-03\n",
      "  3.64246966e-03 3.29584284e-03 2.98220193e-03 2.69840789e-03\n",
      "  2.44162043e-03 2.20926952e-03 1.99902973e-03]\n",
      " [2.67756192e+00 2.95916357e+00 3.27038152e+00 3.61433054e+00\n",
      "  3.99445300e+00 4.41455329e+00 4.87883592e+00 5.39194757e+00\n",
      "  5.95902365e+00 6.58573963e+00 7.27836792e+00 8.04384055e+00\n",
      "  8.88981865e+00 9.82476904e+00 1.08580490e+01 1.20000000e+01\n",
      "  1.08580490e+01 9.82476904e+00 8.88981865e+00 7.27836792e+00\n",
      "  6.58573963e+00 5.95902365e+00 5.39194757e+00 4.87883592e+00\n",
      "  4.41455329e+00 3.99445300e+00 3.61433054e+00 3.27038152e+00\n",
      "  2.95916357e+00 2.67756192e+00 2.42275822e+00 2.19220229e+00\n",
      "  1.98358666e+00 1.79482343e+00 1.62402340e+00 1.46947714e+00\n",
      "  1.32963790e+00 1.20310612e+00 9.85019983e-01 8.91282939e-01\n",
      "  8.06466153e-01 7.29720752e-01 6.60278641e-01 5.97444820e-01\n",
      "  5.40590429e-01 4.89146448e-01 4.42598009e-01 4.00479240e-01\n",
      "  3.62368601e-01 3.27884669e-01 2.96682318e-01 2.68449262e-01\n",
      "  2.42902937e-01 2.19787667e-01 1.98872105e-01 1.79946922e-01\n",
      "  1.62822708e-01 1.33307958e-01 1.20622029e-01 1.09143325e-01\n",
      "  9.87569646e-02 8.93589969e-02 8.08553640e-02 7.31609588e-02\n",
      "  6.61987730e-02 5.98991269e-02 5.41989713e-02 4.90412573e-02\n",
      "  4.43743646e-02 4.01515855e-02 3.63306569e-02 3.28733378e-02\n",
      "  2.97450261e-02 2.69144126e-02 2.43531676e-02 2.20356573e-02\n",
      "  1.80412703e-02 1.63244165e-02 1.47709428e-02 1.33653018e-02\n",
      "  1.20934251e-02 1.09425836e-02 9.90125908e-03 8.95902970e-03\n",
      "  8.10646530e-03 7.33503313e-03 6.63701244e-03 6.00541720e-03\n",
      "  5.43392619e-03 4.91681975e-03 4.44892249e-03 4.02555153e-03\n",
      "  3.64246966e-03 3.29584284e-03 2.98220193e-03]\n",
      " [1.79482343e+00 1.98358666e+00 2.19220229e+00 2.42275822e+00\n",
      "  2.67756192e+00 2.95916357e+00 3.27038152e+00 3.61433054e+00\n",
      "  3.99445300e+00 4.41455329e+00 4.87883592e+00 5.39194757e+00\n",
      "  5.95902365e+00 6.58573963e+00 7.27836792e+00 8.04384055e+00\n",
      "  8.88981865e+00 9.82476904e+00 1.08580490e+01 1.08580490e+01\n",
      "  9.82476904e+00 8.88981865e+00 8.04384055e+00 7.27836792e+00\n",
      "  6.58573963e+00 5.95902365e+00 5.39194757e+00 4.87883592e+00\n",
      "  4.41455329e+00 3.99445300e+00 3.61433054e+00 3.27038152e+00\n",
      "  2.95916357e+00 2.67756192e+00 2.42275822e+00 2.19220229e+00\n",
      "  1.98358666e+00 1.79482343e+00 1.46947714e+00 1.32963790e+00\n",
      "  1.20310612e+00 1.08861544e+00 9.85019983e-01 8.91282939e-01\n",
      "  8.06466153e-01 7.29720752e-01 6.60278641e-01 5.97444820e-01\n",
      "  5.40590429e-01 4.89146448e-01 4.42598009e-01 4.00479240e-01\n",
      "  3.62368601e-01 3.27884669e-01 2.96682318e-01 2.68449262e-01\n",
      "  2.42902937e-01 1.98872105e-01 1.79946922e-01 1.62822708e-01\n",
      "  1.47328079e-01 1.33307958e-01 1.20622029e-01 1.09143325e-01\n",
      "  9.87569646e-02 8.93589969e-02 8.08553640e-02 7.31609588e-02\n",
      "  6.61987730e-02 5.98991269e-02 5.41989713e-02 4.90412573e-02\n",
      "  4.43743646e-02 4.01515855e-02 3.63306569e-02 3.28733378e-02\n",
      "  2.69144126e-02 2.43531676e-02 2.20356573e-02 1.99386873e-02\n",
      "  1.80412703e-02 1.63244165e-02 1.47709428e-02 1.33653018e-02\n",
      "  1.20934251e-02 1.09425836e-02 9.90125908e-03 8.95902970e-03\n",
      "  8.10646530e-03 7.33503313e-03 6.63701244e-03 6.00541720e-03\n",
      "  5.43392619e-03 4.91681975e-03 4.44892249e-03]]\n"
     ]
    }
   ],
   "source": [
    "\n",
    "###entre les observations :\n",
    "\n",
    "M_obs = matrix_distance(observation_indexes, observation_indexes)\n",
    "print(M_obs)\n",
    "C_obs = covariance(M_obs)\n",
    "\n",
    "###entre les observations et les inconnues :\n",
    "\n",
    "unknown_indexes = []\n",
    "for x in discretization_indexes:\n",
    "    if x not in observation_indexes :  #On ne retient que les inconnues\n",
    "        unknown_indexes.append(x)\n",
    "    \n",
    "\n",
    "unknown_indexes = np.array(unknown_indexes)\n",
    "unknown_indexes = unknown_indexes.astype(int)\n",
    "unknown = unknown_indexes * Delta\n",
    "\n",
    "M_obsinc = matrix_distance(observation_indexes, unknown)\n",
    "print(M_obsinc)\n",
    "C_obsinc = covariance(M_obsinc)\n",
    "print(C_obsinc)\n",
    "    \n",
    "###entre les inconnues\n",
    "\n",
    "M_inc = matrix_distance(unknown, unknown)\n",
    "C_inc = covariance(M_inc)\n",
    "\n",
    "\n"
   ]
  },
  {
   "cell_type": "markdown",
   "metadata": {},
   "source": [
    "#### 5.\n",
    "D'après la question théorique 2., la loi du vecteur aléatoire des composantes inconnues sachant les observations est une loi gaussienne d'espérance $\\psi (w) = (\\mu + C_{V,W}C_W^{-1}(w-\\mu)) $ avec les notations de la question 2., (en nommant les matrices de covariance C.. plutôt que D.., vu qu'il n'y a pas de confusion avec la matrice de covariance C pour toute les profondeurs, qui n'est pas calculée ici).\n",
    "D'où :"
   ]
  },
  {
   "cell_type": "code",
   "execution_count": 102,
   "metadata": {},
   "outputs": [
    {
     "data": {
      "image/png": "[encoded data removed]",
      "text/plain": [
       "<Figure size 432x288 with 1 Axes>"
      ]
     },
     "metadata": {
      "needs_background": "light"
     },
     "output_type": "display_data"
    }
   ],
   "source": [
    "#5\n",
    "\n",
    "#Calcul des espérances de V (vecteur des composantes non observées) et de W\n",
    "#(composantes observées)\n",
    "\n",
    "E_V = np.array([mu] * (len(discretization_indexes) - len(observation_indexes))).T\n",
    "E_W = np.array([mu] * len(observation_indexes)).T\n",
    "W = depth.T\n",
    "C_W = C_obs\n",
    "\n",
    "\n",
    "C_VW = np.array([[Cov[i][j] for j in observation_indexes] for i in inconnues_indexes])\n",
    "F = np.array(Z - EZ)\n",
    "\n",
    "E_VW = E_V - C_VW.dot(np.linalg.inv(C_W)).dot(F)\n",
    "V = np.array([discretization[i] for i in inconnues_indexes])\n",
    "\n",
    "plt.plot(V, E_VW)\n",
    "plt.xlabel('Discretization points')\n",
    "plt.ylabel('Expectation for each point')\n",
    "plt.title('Conditional expectation for unknown components, knowing observations')\n",
    "plt.show()"
   ]
  },
  {
   "cell_type": "markdown",
   "metadata": {},
   "source": [
    "Où on trace l'espérance conditionnelle en fonction du point de discretisation"
   ]
  },
  {
   "cell_type": "markdown",
   "metadata": {},
   "source": [
    "#### 6.\n",
    "De même d'après la question théorique 2., la variance conditionnelle en fonction de la position est donnée par $(C_V - C_{V,W}D_Z^{-1}C_{W,V})$"
   ]
  },
  {
   "cell_type": "code",
   "execution_count": 103,
   "metadata": {},
   "outputs": [
    {
     "data": {
      "image/png": "[encoded data removed]",
      "text/plain": [
       "<Figure size 432x288 with 1 Axes>"
      ]
     },
     "metadata": {
      "needs_background": "light"
     },
     "output_type": "display_data"
    }
   ],
   "source": [
    "C_V= C_inc\n",
    "CovVar = C_V - C_VW.dot(np.linalg.inv(C_W)).dot(C_VW.T)\n",
    "variance_conditionnelle = np.array([CovVar[i][i] for i in range(len(CovVar))])\n",
    "plt.plot(V, variance_conditionnelle)\n",
    "plt.xlabel('Discretization points')\n",
    "plt.ylabel('Variance for each point')\n",
    "plt.title('Conditional variance for each point. ')\n",
    "plt.show()"
   ]
  },
  {
   "cell_type": "markdown",
   "metadata": {},
   "source": [
    "#### 7. \n",
    "On applique l'algorithme évoqué Q4. Partie théorique. On utilise la méthode de Cholesky pour obtenir une matrice R telle que $RR^t = CovVar $. Ici nous obtenons un message d'erreur et n'avons pas trouvé de solution."
   ]
  },
  {
   "cell_type": "code",
   "execution_count": 104,
   "metadata": {},
   "outputs": [
    {
     "data": {
      "text/plain": [
       "(array([[-2.51729417, -2.00783951, -1.51847998, ...,  0.02138109,\n",
       "          0.02005534,  0.0189303 ],\n",
       "        [-2.00783951,  0.57741149,  0.76443942, ...,  0.02276388,\n",
       "          0.02138109,  0.02021229],\n",
       "        [-1.51847998,  0.76443942,  3.05500958, ...,  0.0243745 ,\n",
       "          0.02292084,  0.02169658],\n",
       "        ...,\n",
       "        [ 0.02138109,  0.02276388,  0.0243745 , ...,  0.57741149,\n",
       "         -2.00783951, -4.61318564],\n",
       "        [ 0.02005534,  0.02138109,  0.02292084, ..., -2.00783951,\n",
       "         -2.51729417, -5.45594475],\n",
       "        [ 0.0189303 ,  0.02021229,  0.02169658, ..., -4.61318564,\n",
       "         -5.45594475, -6.35330879]]),\n",
       " array([ 139.27048126, -142.50427575, -122.35626348,  -78.05088771,\n",
       "          73.75441633,   66.43571889,   54.57134442,   45.87853546,\n",
       "         -27.15034071,   22.94660894,   18.6260458 ,   17.64071484,\n",
       "          15.53396998,   13.34079228,   11.55062119,    9.60430236,\n",
       "           9.20551933,    7.79908448,    7.25334096,    6.16156953,\n",
       "           5.74728354,    5.25099221,    5.04000242,    4.63076264,\n",
       "           4.22818214,    3.70287357,    3.669224  ,    3.14053424,\n",
       "           3.09892619,    2.77488031,    2.70677713,    2.58629094,\n",
       "           2.47810323,    2.39317347,    2.26315634,    2.01177833,\n",
       "           1.98950811,    1.83709591,    1.81499017,    1.74334736,\n",
       "           1.59483741,    1.5486949 ,    1.53382933,    1.46200325,\n",
       "           1.45888008,    1.31214208,    1.28940237,    1.25590679,\n",
       "           1.23601304,    1.21330221,    1.11103929,    1.09933126,\n",
       "           1.08259843,    1.05526238,    1.05098272,    0.96593857,\n",
       "           0.95084927,    0.94754299,    0.93501357,    0.92189909,\n",
       "           0.86653519,    0.85863095,    0.84420889,    0.82995793,\n",
       "           0.8347257 ,    0.78301533,    0.77166716,    0.77016289,\n",
       "           0.75998647,    0.75895984,    0.73511434,    0.71914588,\n",
       "           0.70140117,    0.70803251,    0.71236052,    0.60031504,\n",
       "           0.67242732,    0.65231395,    0.62885359,    0.66683759,\n",
       "           0.6358135 ,    0.61397029,    0.60314725,    0.60451936,\n",
       "           0.66951557,    0.64331046,    0.61797514,    0.66816127,\n",
       "           0.63762701,    0.64049407,    0.61686179,    0.60395834,\n",
       "           0.60359726,    0.61667989,    0.61586964]))"
      ]
     },
     "execution_count": 104,
     "metadata": {},
     "output_type": "execute_result"
    }
   ],
   "source": [
    "CovVar, np.linalg.eigvals(CovVar)"
   ]
  },
  {
   "cell_type": "markdown",
   "metadata": {},
   "source": [
    "On voit en effet que les valeurs propres ne sont pas toutes positives, ce qui implique que la matrice n'est pas définie positive."
   ]
  },
  {
   "cell_type": "code",
   "execution_count": 109,
   "metadata": {},
   "outputs": [
    {
     "data": {
      "text/plain": [
       "array([-13,  -1,  -1, -10,  -7,  -2])"
      ]
     },
     "execution_count": 109,
     "metadata": {},
     "output_type": "execute_result"
    }
   ],
   "source": [
    "new_depth\n"
   ]
  },
  {
   "cell_type": "code",
   "execution_count": 108,
   "metadata": {
    "scrolled": true
   },
   "outputs": [
    {
     "ename": "LinAlgError",
     "evalue": "Matrix is not positive definite",
     "output_type": "error",
     "traceback": [
      "\u001b[1;31m---------------------------------------------------------------------------\u001b[0m",
      "\u001b[1;31mLinAlgError\u001b[0m                               Traceback (most recent call last)",
      "\u001b[1;32m<ipython-input-108-693d8f5bfc09>\u001b[0m in \u001b[0;36m<module>\u001b[1;34m\u001b[0m\n\u001b[0;32m     13\u001b[0m \u001b[1;33m\u001b[0m\u001b[0m\n\u001b[0;32m     14\u001b[0m \u001b[1;31m## Le programme renvoie 'Matrix is not positive definite'. Je ne sais pas comment y remédier.\u001b[0m\u001b[1;33m\u001b[0m\u001b[1;33m\u001b[0m\u001b[1;33m\u001b[0m\u001b[0m\n\u001b[1;32m---> 15\u001b[1;33m \u001b[0mprint\u001b[0m\u001b[1;33m(\u001b[0m\u001b[0msimulation\u001b[0m\u001b[1;33m(\u001b[0m\u001b[1;33m)\u001b[0m\u001b[1;33m)\u001b[0m\u001b[1;33m\u001b[0m\u001b[1;33m\u001b[0m\u001b[0m\n\u001b[0m",
      "\u001b[1;32m<ipython-input-108-693d8f5bfc09>\u001b[0m in \u001b[0;36msimulation\u001b[1;34m()\u001b[0m\n\u001b[0;32m     10\u001b[0m \u001b[1;33m\u001b[0m\u001b[0m\n\u001b[0;32m     11\u001b[0m     \u001b[1;31m#On obtient le vecteur gaussien d'espérance et variance calculées plus haut\u001b[0m\u001b[1;33m\u001b[0m\u001b[1;33m\u001b[0m\u001b[1;33m\u001b[0m\u001b[0m\n\u001b[1;32m---> 12\u001b[1;33m     \u001b[1;32mreturn\u001b[0m\u001b[1;33m(\u001b[0m \u001b[0mC_VW\u001b[0m\u001b[1;33m.\u001b[0m\u001b[0mdot\u001b[0m\u001b[1;33m(\u001b[0m\u001b[0mnp\u001b[0m\u001b[1;33m.\u001b[0m\u001b[0mlinalg\u001b[0m\u001b[1;33m.\u001b[0m\u001b[0minv\u001b[0m\u001b[1;33m(\u001b[0m\u001b[0mC_W\u001b[0m\u001b[1;33m)\u001b[0m\u001b[1;33m)\u001b[0m\u001b[1;33m.\u001b[0m\u001b[0mdot\u001b[0m\u001b[1;33m(\u001b[0m\u001b[0mnew_depth\u001b[0m \u001b[1;33m-\u001b[0m \u001b[0mmu\u001b[0m\u001b[1;33m)\u001b[0m \u001b[1;33m+\u001b[0m \u001b[0mnp\u001b[0m\u001b[1;33m.\u001b[0m\u001b[0mlinalg\u001b[0m\u001b[1;33m.\u001b[0m\u001b[0mcholesky\u001b[0m\u001b[1;33m(\u001b[0m\u001b[0mCovVar\u001b[0m\u001b[1;33m)\u001b[0m\u001b[1;33m.\u001b[0m\u001b[0mdot\u001b[0m\u001b[1;33m(\u001b[0m\u001b[0mH\u001b[0m\u001b[1;33m)\u001b[0m \u001b[1;33m)\u001b[0m\u001b[1;33m\u001b[0m\u001b[1;33m\u001b[0m\u001b[0m\n\u001b[0m\u001b[0;32m     13\u001b[0m \u001b[1;33m\u001b[0m\u001b[0m\n\u001b[0;32m     14\u001b[0m \u001b[1;31m## Le programme renvoie 'Matrix is not positive definite'. Je ne sais pas comment y remédier.\u001b[0m\u001b[1;33m\u001b[0m\u001b[1;33m\u001b[0m\u001b[1;33m\u001b[0m\u001b[0m\n",
      "\u001b[1;32m~\\Anaconda3\\lib\\site-packages\\numpy\\linalg\\linalg.py\u001b[0m in \u001b[0;36mcholesky\u001b[1;34m(a)\u001b[0m\n\u001b[0;32m    757\u001b[0m     \u001b[0mt\u001b[0m\u001b[1;33m,\u001b[0m \u001b[0mresult_t\u001b[0m \u001b[1;33m=\u001b[0m \u001b[0m_commonType\u001b[0m\u001b[1;33m(\u001b[0m\u001b[0ma\u001b[0m\u001b[1;33m)\u001b[0m\u001b[1;33m\u001b[0m\u001b[1;33m\u001b[0m\u001b[0m\n\u001b[0;32m    758\u001b[0m     \u001b[0msignature\u001b[0m \u001b[1;33m=\u001b[0m \u001b[1;34m'D->D'\u001b[0m \u001b[1;32mif\u001b[0m \u001b[0misComplexType\u001b[0m\u001b[1;33m(\u001b[0m\u001b[0mt\u001b[0m\u001b[1;33m)\u001b[0m \u001b[1;32melse\u001b[0m \u001b[1;34m'd->d'\u001b[0m\u001b[1;33m\u001b[0m\u001b[1;33m\u001b[0m\u001b[0m\n\u001b[1;32m--> 759\u001b[1;33m     \u001b[0mr\u001b[0m \u001b[1;33m=\u001b[0m \u001b[0mgufunc\u001b[0m\u001b[1;33m(\u001b[0m\u001b[0ma\u001b[0m\u001b[1;33m,\u001b[0m \u001b[0msignature\u001b[0m\u001b[1;33m=\u001b[0m\u001b[0msignature\u001b[0m\u001b[1;33m,\u001b[0m \u001b[0mextobj\u001b[0m\u001b[1;33m=\u001b[0m\u001b[0mextobj\u001b[0m\u001b[1;33m)\u001b[0m\u001b[1;33m\u001b[0m\u001b[1;33m\u001b[0m\u001b[0m\n\u001b[0m\u001b[0;32m    760\u001b[0m     \u001b[1;32mreturn\u001b[0m \u001b[0mwrap\u001b[0m\u001b[1;33m(\u001b[0m\u001b[0mr\u001b[0m\u001b[1;33m.\u001b[0m\u001b[0mastype\u001b[0m\u001b[1;33m(\u001b[0m\u001b[0mresult_t\u001b[0m\u001b[1;33m,\u001b[0m \u001b[0mcopy\u001b[0m\u001b[1;33m=\u001b[0m\u001b[1;32mFalse\u001b[0m\u001b[1;33m)\u001b[0m\u001b[1;33m)\u001b[0m\u001b[1;33m\u001b[0m\u001b[1;33m\u001b[0m\u001b[0m\n\u001b[0;32m    761\u001b[0m \u001b[1;33m\u001b[0m\u001b[0m\n",
      "\u001b[1;32m~\\Anaconda3\\lib\\site-packages\\numpy\\linalg\\linalg.py\u001b[0m in \u001b[0;36m_raise_linalgerror_nonposdef\u001b[1;34m(err, flag)\u001b[0m\n\u001b[0;32m     98\u001b[0m \u001b[1;33m\u001b[0m\u001b[0m\n\u001b[0;32m     99\u001b[0m \u001b[1;32mdef\u001b[0m \u001b[0m_raise_linalgerror_nonposdef\u001b[0m\u001b[1;33m(\u001b[0m\u001b[0merr\u001b[0m\u001b[1;33m,\u001b[0m \u001b[0mflag\u001b[0m\u001b[1;33m)\u001b[0m\u001b[1;33m:\u001b[0m\u001b[1;33m\u001b[0m\u001b[1;33m\u001b[0m\u001b[0m\n\u001b[1;32m--> 100\u001b[1;33m     \u001b[1;32mraise\u001b[0m \u001b[0mLinAlgError\u001b[0m\u001b[1;33m(\u001b[0m\u001b[1;34m\"Matrix is not positive definite\"\u001b[0m\u001b[1;33m)\u001b[0m\u001b[1;33m\u001b[0m\u001b[1;33m\u001b[0m\u001b[0m\n\u001b[0m\u001b[0;32m    101\u001b[0m \u001b[1;33m\u001b[0m\u001b[0m\n\u001b[0;32m    102\u001b[0m \u001b[1;32mdef\u001b[0m \u001b[0m_raise_linalgerror_eigenvalues_nonconvergence\u001b[0m\u001b[1;33m(\u001b[0m\u001b[0merr\u001b[0m\u001b[1;33m,\u001b[0m \u001b[0mflag\u001b[0m\u001b[1;33m)\u001b[0m\u001b[1;33m:\u001b[0m\u001b[1;33m\u001b[0m\u001b[1;33m\u001b[0m\u001b[0m\n",
      "\u001b[1;31mLinAlgError\u001b[0m: Matrix is not positive definite"
     ]
    }
   ],
   "source": [
    "\n",
    "def simulation():\n",
    "    len_H = N - len(observation_indexes)\n",
    "    H = np.zeros(len_H) # On va construire le vecteur gaussien 0, 1;\n",
    "    for i in range (len_H // 2):\n",
    "        a, b = np.random.uniform(), np.random.uniform()\n",
    "        H[2*i], H[2*i+1] = np.sqrt(-2*np.log(a))*np.cos(2*np.pi*b), np.sqrt(-2*np.log(a))*np.sin(2*np.pi*b)\n",
    "        if len_H%2 == 1 :\n",
    "            a, b = np.random.uniform(), np.random.uniform()\n",
    "            H[len_H -1] = np.sqrt(-2*np.log(a))*np.cos(2*np.pi*b)\n",
    "\n",
    "    #On obtient le vecteur gaussien d'espérance et variance calculées plus haut\n",
    "    return( C_VW.dot(np.linalg.inv(C_W)).dot(depth - mu) + np.linalg.cholesky(CovVar).dot(H) )\n",
    "\n",
    "## Le programme renvoie 'Matrix is not positive definite'. Je ne sais pas comment y remédier.\n",
    "print(simulation())"
   ]
  },
  {
   "cell_type": "markdown",
   "metadata": {},
   "source": [
    "Tachons de remédier à ce problème en changeant les profondeurs observées. Peut être que par chance on tombera sur une combinaison qui fonctionne."
   ]
  },
  {
   "cell_type": "code",
   "execution_count": 112,
   "metadata": {},
   "outputs": [
    {
     "name": "stdout",
     "output_type": "stream",
     "text": [
      "[ -6  -7  -8  -6  -8 -10]\n",
      "[ 139.27048126 -142.50427575 -122.35626348  -78.05088771   73.75441633\n",
      "   66.43571889   54.57134442   45.87853546  -27.15034071   22.94660894\n",
      "   18.6260458    17.64071484   15.53396998   13.34079228   11.55062119\n",
      "    9.60430236    9.20551933    7.79908448    7.25334096    6.16156953\n",
      "    5.74728354    5.25099221    5.04000242    4.63076264    4.22818214\n",
      "    3.70287357    3.669224      3.14053424    3.09892619    2.77488031\n",
      "    2.70677713    2.58629094    2.47810323    2.39317347    2.26315634\n",
      "    2.01177833    1.98950811    1.83709591    1.81499017    1.74334736\n",
      "    1.59483741    1.5486949     1.53382933    1.46200325    1.45888008\n",
      "    1.31214208    1.28940237    1.25590679    1.23601304    1.21330221\n",
      "    1.11103929    1.09933126    1.08259843    1.05526238    1.05098272\n",
      "    0.96593857    0.95084927    0.94754299    0.93501357    0.92189909\n",
      "    0.86653519    0.85863095    0.84420889    0.82995793    0.8347257\n",
      "    0.78301533    0.77166716    0.77016289    0.75998647    0.75895984\n",
      "    0.73511434    0.71914588    0.70140117    0.70803251    0.71236052\n",
      "    0.60031504    0.67242732    0.65231395    0.62885359    0.66683759\n",
      "    0.6358135     0.61397029    0.60314725    0.60451936    0.66951557\n",
      "    0.64331046    0.61797514    0.66816127    0.63762701    0.64049407\n",
      "    0.61686179    0.60395834    0.60359726    0.61667989    0.61586964]\n"
     ]
    }
   ],
   "source": [
    "count = 0\n",
    "local_CovVar = CovVar\n",
    "while count < 100  and not np.all(np.linalg.eigvals(local_CovVar) > 0) :\n",
    "    depth = np.array([- np.random.randint(15) for i in range(6)])   \n",
    "    \n",
    "    # On repète ensuite toute les étapes vues plus haut avec les nouvelles observations:\n",
    "                            \n",
    "    ###entre les observations :\n",
    "\n",
    "    M_obs = matrix_distance(observation_indexes, observation_indexes)\n",
    "    C_obs = covariance(M_obs)\n",
    "\n",
    "    ###entre les observations et les inconnues :\n",
    "\n",
    "    unknown_indexes = []\n",
    "    for x in discretization_indexes:\n",
    "        if x not in observation_indexes :  #On ne retient que les inconnues\n",
    "            unknown_indexes.append(x)\n",
    "\n",
    "\n",
    "    unknown_indexes = np.array(unknown_indexes)\n",
    "    unknown_indexes = unknown_indexes.astype(int)\n",
    "    unknown = unknown_indexes * Delta\n",
    "\n",
    "    M_obsinc = matrix_distance(observation_indexes, unknown)\n",
    "    C_obsinc = covariance(M_obsinc)\n",
    "    \n",
    "    ###entre les inconnues\n",
    "\n",
    "    M_inc = matrix_distance(unknown, unknown)\n",
    "    C_inc = covariance(M_inc)\n",
    "    C_V= C_inc\n",
    "    W = depth.T\n",
    "    C_W = C_obs\n",
    "    C_VW = np.array([[Cov[i][j] for j in observation_indexes] for i in inconnues_indexes])\n",
    "                     \n",
    "    local_CovVar = C_V - C_VW.dot(np.linalg.inv(C_W)).dot(C_VW.T)\n",
    "    count +=1\n",
    "print(depth)\n",
    "new_depth = depth\n",
    "new_CovVar = local_CovVar\n",
    "print(np.linalg.eigvals(new_CovVar))"
   ]
  },
  {
   "cell_type": "markdown",
   "metadata": {},
   "source": [
    "La boucle semble donner un vecteur d'observations valide, mais il possède apparemment des valeurs propres négatives. Cette bidouille ne marche pas non plus."
   ]
  },
  {
   "cell_type": "markdown",
   "metadata": {},
   "source": [
    "#### 8.\n"
   ]
  },
  {
   "cell_type": "code",
   "execution_count": 41,
   "metadata": {},
   "outputs": [],
   "source": [
    "def longueur(profondeur, pas):\n",
    "    S = 0\n",
    "    for i in range(1, len(profondeur)):\n",
    "        S += np.sqrt(pas**2 + (profondeur[i] - profondeur[i-1])**2)\n",
    "    return S"
   ]
  },
  {
   "cell_type": "markdown",
   "metadata": {},
   "source": [
    "#### 9.\n",
    "Ici nous comprenons \"calculer la longueur du câble à partir de 100 simulations comme réaliser 100 simulations et calculer la longueur pour chacune d'elle. Nous retournerions une liste des 100 longueurs, si simulation marchait."
   ]
  },
  {
   "cell_type": "code",
   "execution_count": 87,
   "metadata": {},
   "outputs": [
    {
     "ename": "LinAlgError",
     "evalue": "Matrix is not positive definite",
     "output_type": "error",
     "traceback": [
      "\u001b[1;31m---------------------------------------------------------------------------\u001b[0m",
      "\u001b[1;31mLinAlgError\u001b[0m                               Traceback (most recent call last)",
      "\u001b[1;32m<ipython-input-87-5188b7a7002a>\u001b[0m in \u001b[0;36m<module>\u001b[1;34m\u001b[0m\n\u001b[0;32m      8\u001b[0m     \u001b[1;31m#profondeurs simulées ordonnées\u001b[0m\u001b[1;33m\u001b[0m\u001b[1;33m\u001b[0m\u001b[1;33m\u001b[0m\u001b[0m\n\u001b[0;32m      9\u001b[0m     \u001b[0mprofondeurs\u001b[0m \u001b[1;33m=\u001b[0m \u001b[1;33m[\u001b[0m\u001b[1;33m]\u001b[0m\u001b[1;33m\u001b[0m\u001b[1;33m\u001b[0m\u001b[0m\n\u001b[1;32m---> 10\u001b[1;33m     \u001b[0munknown\u001b[0m \u001b[1;33m=\u001b[0m \u001b[0msimulation\u001b[0m\u001b[1;33m(\u001b[0m\u001b[1;33m)\u001b[0m\u001b[1;33m\u001b[0m\u001b[1;33m\u001b[0m\u001b[0m\n\u001b[0m\u001b[0;32m     11\u001b[0m \u001b[1;33m\u001b[0m\u001b[0m\n\u001b[0;32m     12\u001b[0m     \u001b[1;32mfor\u001b[0m \u001b[0mj\u001b[0m \u001b[1;32min\u001b[0m \u001b[0mrange\u001b[0m\u001b[1;33m(\u001b[0m\u001b[1;36m101\u001b[0m\u001b[1;33m)\u001b[0m\u001b[1;33m:\u001b[0m\u001b[1;33m\u001b[0m\u001b[1;33m\u001b[0m\u001b[0m\n",
      "\u001b[1;32m<ipython-input-79-420bfaa3d933>\u001b[0m in \u001b[0;36msimulation\u001b[1;34m()\u001b[0m\n\u001b[0;32m     10\u001b[0m \u001b[1;33m\u001b[0m\u001b[0m\n\u001b[0;32m     11\u001b[0m     \u001b[1;31m#On obtient le vecteur gaussien d'espérance et variance calculées plus haut\u001b[0m\u001b[1;33m\u001b[0m\u001b[1;33m\u001b[0m\u001b[1;33m\u001b[0m\u001b[0m\n\u001b[1;32m---> 12\u001b[1;33m     \u001b[1;32mreturn\u001b[0m\u001b[1;33m(\u001b[0m \u001b[0mC_VW\u001b[0m\u001b[1;33m.\u001b[0m\u001b[0mdot\u001b[0m\u001b[1;33m(\u001b[0m\u001b[0mnp\u001b[0m\u001b[1;33m.\u001b[0m\u001b[0mlinalg\u001b[0m\u001b[1;33m.\u001b[0m\u001b[0minv\u001b[0m\u001b[1;33m(\u001b[0m\u001b[0mC_W\u001b[0m\u001b[1;33m)\u001b[0m\u001b[1;33m)\u001b[0m\u001b[1;33m.\u001b[0m\u001b[0mdot\u001b[0m\u001b[1;33m(\u001b[0m\u001b[0mdepth\u001b[0m \u001b[1;33m-\u001b[0m \u001b[0mmu\u001b[0m\u001b[1;33m)\u001b[0m \u001b[1;33m+\u001b[0m \u001b[0mnp\u001b[0m\u001b[1;33m.\u001b[0m\u001b[0mlinalg\u001b[0m\u001b[1;33m.\u001b[0m\u001b[0mcholesky\u001b[0m\u001b[1;33m(\u001b[0m\u001b[0mCovVar\u001b[0m\u001b[1;33m)\u001b[0m\u001b[1;33m.\u001b[0m\u001b[0mdot\u001b[0m\u001b[1;33m(\u001b[0m\u001b[0mH\u001b[0m\u001b[1;33m)\u001b[0m \u001b[1;33m)\u001b[0m\u001b[1;33m\u001b[0m\u001b[1;33m\u001b[0m\u001b[0m\n\u001b[0m\u001b[0;32m     13\u001b[0m \u001b[1;33m\u001b[0m\u001b[0m\n\u001b[0;32m     14\u001b[0m \u001b[1;31m## Le programme renvoie 'Matrix is not positive definite'. Je ne sais pas comment y remédier.\u001b[0m\u001b[1;33m\u001b[0m\u001b[1;33m\u001b[0m\u001b[1;33m\u001b[0m\u001b[0m\n",
      "\u001b[1;32m~\\Anaconda3\\lib\\site-packages\\numpy\\linalg\\linalg.py\u001b[0m in \u001b[0;36mcholesky\u001b[1;34m(a)\u001b[0m\n\u001b[0;32m    757\u001b[0m     \u001b[0mt\u001b[0m\u001b[1;33m,\u001b[0m \u001b[0mresult_t\u001b[0m \u001b[1;33m=\u001b[0m \u001b[0m_commonType\u001b[0m\u001b[1;33m(\u001b[0m\u001b[0ma\u001b[0m\u001b[1;33m)\u001b[0m\u001b[1;33m\u001b[0m\u001b[1;33m\u001b[0m\u001b[0m\n\u001b[0;32m    758\u001b[0m     \u001b[0msignature\u001b[0m \u001b[1;33m=\u001b[0m \u001b[1;34m'D->D'\u001b[0m \u001b[1;32mif\u001b[0m \u001b[0misComplexType\u001b[0m\u001b[1;33m(\u001b[0m\u001b[0mt\u001b[0m\u001b[1;33m)\u001b[0m \u001b[1;32melse\u001b[0m \u001b[1;34m'd->d'\u001b[0m\u001b[1;33m\u001b[0m\u001b[1;33m\u001b[0m\u001b[0m\n\u001b[1;32m--> 759\u001b[1;33m     \u001b[0mr\u001b[0m \u001b[1;33m=\u001b[0m \u001b[0mgufunc\u001b[0m\u001b[1;33m(\u001b[0m\u001b[0ma\u001b[0m\u001b[1;33m,\u001b[0m \u001b[0msignature\u001b[0m\u001b[1;33m=\u001b[0m\u001b[0msignature\u001b[0m\u001b[1;33m,\u001b[0m \u001b[0mextobj\u001b[0m\u001b[1;33m=\u001b[0m\u001b[0mextobj\u001b[0m\u001b[1;33m)\u001b[0m\u001b[1;33m\u001b[0m\u001b[1;33m\u001b[0m\u001b[0m\n\u001b[0m\u001b[0;32m    760\u001b[0m     \u001b[1;32mreturn\u001b[0m \u001b[0mwrap\u001b[0m\u001b[1;33m(\u001b[0m\u001b[0mr\u001b[0m\u001b[1;33m.\u001b[0m\u001b[0mastype\u001b[0m\u001b[1;33m(\u001b[0m\u001b[0mresult_t\u001b[0m\u001b[1;33m,\u001b[0m \u001b[0mcopy\u001b[0m\u001b[1;33m=\u001b[0m\u001b[1;32mFalse\u001b[0m\u001b[1;33m)\u001b[0m\u001b[1;33m)\u001b[0m\u001b[1;33m\u001b[0m\u001b[1;33m\u001b[0m\u001b[0m\n\u001b[0;32m    761\u001b[0m \u001b[1;33m\u001b[0m\u001b[0m\n",
      "\u001b[1;32m~\\Anaconda3\\lib\\site-packages\\numpy\\linalg\\linalg.py\u001b[0m in \u001b[0;36m_raise_linalgerror_nonposdef\u001b[1;34m(err, flag)\u001b[0m\n\u001b[0;32m     98\u001b[0m \u001b[1;33m\u001b[0m\u001b[0m\n\u001b[0;32m     99\u001b[0m \u001b[1;32mdef\u001b[0m \u001b[0m_raise_linalgerror_nonposdef\u001b[0m\u001b[1;33m(\u001b[0m\u001b[0merr\u001b[0m\u001b[1;33m,\u001b[0m \u001b[0mflag\u001b[0m\u001b[1;33m)\u001b[0m\u001b[1;33m:\u001b[0m\u001b[1;33m\u001b[0m\u001b[1;33m\u001b[0m\u001b[0m\n\u001b[1;32m--> 100\u001b[1;33m     \u001b[1;32mraise\u001b[0m \u001b[0mLinAlgError\u001b[0m\u001b[1;33m(\u001b[0m\u001b[1;34m\"Matrix is not positive definite\"\u001b[0m\u001b[1;33m)\u001b[0m\u001b[1;33m\u001b[0m\u001b[1;33m\u001b[0m\u001b[0m\n\u001b[0m\u001b[0;32m    101\u001b[0m \u001b[1;33m\u001b[0m\u001b[0m\n\u001b[0;32m    102\u001b[0m \u001b[1;32mdef\u001b[0m \u001b[0m_raise_linalgerror_eigenvalues_nonconvergence\u001b[0m\u001b[1;33m(\u001b[0m\u001b[0merr\u001b[0m\u001b[1;33m,\u001b[0m \u001b[0mflag\u001b[0m\u001b[1;33m)\u001b[0m\u001b[1;33m:\u001b[0m\u001b[1;33m\u001b[0m\u001b[1;33m\u001b[0m\u001b[0m\n",
      "\u001b[1;31mLinAlgError\u001b[0m: Matrix is not positive definite"
     ]
    }
   ],
   "source": [
    "#on va stocker des couples (profondeurs inconnues simulées et observées,\n",
    "#profondeurs inconnues simulées seulement)correspondant à chaque simulation\n",
    "\n",
    "stockage_profondeurs = [] \n",
    "\n",
    "for i in range(100):\n",
    "    #on va reconstituer un vecteur de profondeur, avec les observations et les\n",
    "    #profondeurs simulées ordonnées\n",
    "    profondeurs = []\n",
    "    unknown = simulation()\n",
    "    \n",
    "    for j in range(101):\n",
    "        if j not in observation_indexes :\n",
    "            profondeurs.append(simulation[j])\n",
    "        else:\n",
    "            profondeurs.append(depth[j/20])\n",
    "    stockage_profondeurs.append((profondeurs, unknown))\n",
    "\n",
    "#On calcule les longueurs pour 100 simulations\n",
    "stockage_longueurs = [longeur(profondeurs, 5) for profondeurs, unknown in stockage_profondeurs]\n",
    "#On calcule l'espérance conditionnelle de la longueur\n",
    "lmoy_estimée = sum(stockage_longueurs)/100 \n",
    "\n",
    "#On calcule la longueur de lespérance conditionnelle\n",
    "profondeurs_esperance_cond = []\n",
    "for j in range(101):\n",
    "        if j not in observation_indexes :\n",
    "            profondeurs_esperance_cond.append(E)\n",
    "        else:\n",
    "            profondeurs_esperance_cond.append(depth[j/20])\n",
    "lmoy_esp = longueur(E_VW, 5)\n",
    "\n",
    "\n",
    "print(f\"les longueurs de câble pour 100 simulations sont{stockage_profondeurs}\")\n",
    "print(f\"l'espérance conditionnelle de la longueur est {lmoy_estimée}\")\n",
    "print(f\"la longueur de lespérance conditionnelle est {lmoy_esp}\")\n",
    "\n",
    "        \n",
    "            \n",
    "            "
   ]
  },
  {
   "cell_type": "markdown",
   "metadata": {},
   "source": [
    "#### 10.\n"
   ]
  },
  {
   "cell_type": "code",
   "execution_count": 86,
   "metadata": {},
   "outputs": [
    {
     "ename": "NameError",
     "evalue": "name 'stockage_longueurs' is not defined",
     "output_type": "error",
     "traceback": [
      "\u001b[1;31m---------------------------------------------------------------------------\u001b[0m",
      "\u001b[1;31mNameError\u001b[0m                                 Traceback (most recent call last)",
      "\u001b[1;32m<ipython-input-86-e05eeb48770c>\u001b[0m in \u001b[0;36m<module>\u001b[1;34m\u001b[0m\n\u001b[1;32m----> 1\u001b[1;33m \u001b[0mX\u001b[0m \u001b[1;33m=\u001b[0m \u001b[1;33m[\u001b[0m\u001b[0msum\u001b[0m\u001b[1;33m(\u001b[0m\u001b[0mstockage_longueurs\u001b[0m\u001b[1;33m[\u001b[0m\u001b[1;33m:\u001b[0m\u001b[0mi\u001b[0m\u001b[1;33m]\u001b[0m\u001b[1;33m/\u001b[0m\u001b[0mi\u001b[0m \u001b[1;32mfor\u001b[0m \u001b[0mi\u001b[0m \u001b[1;32min\u001b[0m \u001b[0mrange\u001b[0m\u001b[1;33m(\u001b[0m\u001b[1;36m101\u001b[0m\u001b[1;33m)\u001b[0m\u001b[1;33m)\u001b[0m\u001b[1;33m]\u001b[0m\u001b[1;33m\u001b[0m\u001b[1;33m\u001b[0m\u001b[0m\n\u001b[0m\u001b[0;32m      2\u001b[0m \u001b[0mY\u001b[0m \u001b[1;33m=\u001b[0m \u001b[1;33m[\u001b[0m\u001b[0mi\u001b[0m \u001b[1;32mfor\u001b[0m \u001b[0mi\u001b[0m \u001b[1;32min\u001b[0m \u001b[0mrange\u001b[0m\u001b[1;33m(\u001b[0m\u001b[1;36m101\u001b[0m\u001b[1;33m)\u001b[0m\u001b[1;33m]\u001b[0m\u001b[1;33m\u001b[0m\u001b[1;33m\u001b[0m\u001b[0m\n\u001b[0;32m      3\u001b[0m \u001b[0mplt\u001b[0m\u001b[1;33m.\u001b[0m\u001b[0mplot\u001b[0m\u001b[1;33m(\u001b[0m\u001b[0mX\u001b[0m\u001b[1;33m,\u001b[0m \u001b[0mY\u001b[0m\u001b[1;33m)\u001b[0m\u001b[1;33m\u001b[0m\u001b[1;33m\u001b[0m\u001b[0m\n\u001b[0;32m      4\u001b[0m \u001b[0mplt\u001b[0m\u001b[1;33m.\u001b[0m\u001b[0mxlabel\u001b[0m\u001b[1;33m(\u001b[0m\u001b[1;34m'Termes de Mn'\u001b[0m\u001b[1;33m)\u001b[0m\u001b[1;33m\u001b[0m\u001b[1;33m\u001b[0m\u001b[0m\n\u001b[0;32m      5\u001b[0m \u001b[0mplt\u001b[0m\u001b[1;33m.\u001b[0m\u001b[0mylabel\u001b[0m\u001b[1;33m(\u001b[0m\u001b[1;34m'Nombre de simulation'\u001b[0m\u001b[1;33m)\u001b[0m\u001b[1;33m\u001b[0m\u001b[1;33m\u001b[0m\u001b[0m\n",
      "\u001b[1;32m<ipython-input-86-e05eeb48770c>\u001b[0m in \u001b[0;36m<genexpr>\u001b[1;34m(.0)\u001b[0m\n\u001b[1;32m----> 1\u001b[1;33m \u001b[0mX\u001b[0m \u001b[1;33m=\u001b[0m \u001b[1;33m[\u001b[0m\u001b[0msum\u001b[0m\u001b[1;33m(\u001b[0m\u001b[0mstockage_longueurs\u001b[0m\u001b[1;33m[\u001b[0m\u001b[1;33m:\u001b[0m\u001b[0mi\u001b[0m\u001b[1;33m]\u001b[0m\u001b[1;33m/\u001b[0m\u001b[0mi\u001b[0m \u001b[1;32mfor\u001b[0m \u001b[0mi\u001b[0m \u001b[1;32min\u001b[0m \u001b[0mrange\u001b[0m\u001b[1;33m(\u001b[0m\u001b[1;36m101\u001b[0m\u001b[1;33m)\u001b[0m\u001b[1;33m)\u001b[0m\u001b[1;33m]\u001b[0m\u001b[1;33m\u001b[0m\u001b[1;33m\u001b[0m\u001b[0m\n\u001b[0m\u001b[0;32m      2\u001b[0m \u001b[0mY\u001b[0m \u001b[1;33m=\u001b[0m \u001b[1;33m[\u001b[0m\u001b[0mi\u001b[0m \u001b[1;32mfor\u001b[0m \u001b[0mi\u001b[0m \u001b[1;32min\u001b[0m \u001b[0mrange\u001b[0m\u001b[1;33m(\u001b[0m\u001b[1;36m101\u001b[0m\u001b[1;33m)\u001b[0m\u001b[1;33m]\u001b[0m\u001b[1;33m\u001b[0m\u001b[1;33m\u001b[0m\u001b[0m\n\u001b[0;32m      3\u001b[0m \u001b[0mplt\u001b[0m\u001b[1;33m.\u001b[0m\u001b[0mplot\u001b[0m\u001b[1;33m(\u001b[0m\u001b[0mX\u001b[0m\u001b[1;33m,\u001b[0m \u001b[0mY\u001b[0m\u001b[1;33m)\u001b[0m\u001b[1;33m\u001b[0m\u001b[1;33m\u001b[0m\u001b[0m\n\u001b[0;32m      4\u001b[0m \u001b[0mplt\u001b[0m\u001b[1;33m.\u001b[0m\u001b[0mxlabel\u001b[0m\u001b[1;33m(\u001b[0m\u001b[1;34m'Termes de Mn'\u001b[0m\u001b[1;33m)\u001b[0m\u001b[1;33m\u001b[0m\u001b[1;33m\u001b[0m\u001b[0m\n\u001b[0;32m      5\u001b[0m \u001b[0mplt\u001b[0m\u001b[1;33m.\u001b[0m\u001b[0mylabel\u001b[0m\u001b[1;33m(\u001b[0m\u001b[1;34m'Nombre de simulation'\u001b[0m\u001b[1;33m)\u001b[0m\u001b[1;33m\u001b[0m\u001b[1;33m\u001b[0m\u001b[0m\n",
      "\u001b[1;31mNameError\u001b[0m: name 'stockage_longueurs' is not defined"
     ]
    }
   ],
   "source": [
    "Y = [sum(stockage_longueurs[:i]/i for i in range(101))]\n",
    "X = [i for i in range(101)]\n",
    "plt.plot(X, Y)\n",
    "plt.xlabel('Nombre de simulation')\n",
    "plt.ylabel('Termes de Mn')\n",
    "plt.title('Termes de Mn.')\n",
    "plt.show()"
   ]
  },
  {
   "cell_type": "markdown",
   "metadata": {},
   "source": [
    "#### 11."
   ]
  },
  {
   "cell_type": "code",
   "execution_count": 89,
   "metadata": {},
   "outputs": [
    {
     "ename": "NameError",
     "evalue": "name 'stockage_longueurs' is not defined",
     "output_type": "error",
     "traceback": [
      "\u001b[1;31m---------------------------------------------------------------------------\u001b[0m",
      "\u001b[1;31mNameError\u001b[0m                                 Traceback (most recent call last)",
      "\u001b[1;32m<ipython-input-89-a9b68355381e>\u001b[0m in \u001b[0;36m<module>\u001b[1;34m\u001b[0m\n\u001b[1;32m----> 1\u001b[1;33m plt.hist(stockage_longueurs, bins = range(10), color = 'blue',\n\u001b[0m\u001b[0;32m      2\u001b[0m             edgecolor = 'black')\n\u001b[0;32m      3\u001b[0m \u001b[0mpyplot\u001b[0m\u001b[1;33m.\u001b[0m\u001b[0mxlabel\u001b[0m\u001b[1;33m(\u001b[0m\u001b[1;34m'Longueur'\u001b[0m\u001b[1;33m)\u001b[0m\u001b[1;33m\u001b[0m\u001b[1;33m\u001b[0m\u001b[0m\n\u001b[0;32m      4\u001b[0m \u001b[0mpyplot\u001b[0m\u001b[1;33m.\u001b[0m\u001b[0mylabel\u001b[0m\u001b[1;33m(\u001b[0m\u001b[1;34m'poids'\u001b[0m\u001b[1;33m)\u001b[0m\u001b[1;33m\u001b[0m\u001b[1;33m\u001b[0m\u001b[0m\n\u001b[0;32m      5\u001b[0m \u001b[0mpyplot\u001b[0m\u001b[1;33m.\u001b[0m\u001b[0mtitle\u001b[0m\u001b[1;33m(\u001b[0m\u001b[1;34m'Histogramme des longueurs de câbles générées'\u001b[0m\u001b[1;33m)\u001b[0m\u001b[1;33m\u001b[0m\u001b[1;33m\u001b[0m\u001b[0m\n",
      "\u001b[1;31mNameError\u001b[0m: name 'stockage_longueurs' is not defined"
     ]
    }
   ],
   "source": [
    "plt.hist(stockage_longueurs, bins = range(10), color = 'blue',\n",
    "            edgecolor = 'black')\n",
    "pyplot.xlabel('Longueur')\n",
    "pyplot.ylabel('poids')\n",
    "pyplot.title('Histogramme des longueurs de câbles générées')"
   ]
  },
  {
   "cell_type": "markdown",
   "metadata": {},
   "source": [
    "#### 12.\n",
    "On peut obtenir l'intervalle de confiance à 95% :\n",
    "¤ Mathématiquement d'après la loi des grands nombres à partir de la moyenne et de l'ecart-type des différentes profondeurs simulées. $I = \\left[ \\overline{x} - 2 \\frac{\\sigma}{\\sqrt{n}}; \\overline{x} + 2 \\frac{\\sigma}{\\sqrt{n}}\\right]$. La longueur moyenne est connue, on calcule l'écart-type\n",
    "\n",
    "¤ Nous n'avons pas d'autre manière.\n"
   ]
  },
  {
   "cell_type": "code",
   "execution_count": null,
   "metadata": {},
   "outputs": [],
   "source": [
    "#longueur quadratique moyenne\n",
    "stockage_longueurs_quadratique = [longueur ** 2 for longueur in stockage_longueur]\n",
    "longueur_quad_moyenne = sum(stockage_longueurs_quadratique)/100\n",
    "#ecart-type\n",
    "ecart_type = (longueur_quad-moyenne - lmoy_estimée ** 2) ** (0.5)\n",
    "#intervalle de confiance\n",
    "print(f\"I = [{lmoy_estimée - 2*ecart_type/(100**0.5)}; {lmoy_estimée + 2*ecart_type/(100**0.5)}])"
   ]
  },
  {
   "cell_type": "markdown",
   "metadata": {},
   "source": [
    "#### 13.\n",
    "Il y a peut-être un moyen de répondre à cette question sans connaitre les valeurs moyennes, mais nous ne savons pas lequel."
   ]
  },
  {
   "cell_type": "markdown",
   "metadata": {},
   "source": [
    "#### 14.\n",
    "Nous pourrions recopier le code des questions précédentes en modifiant 100 par 1000 puis 10000, mais sans les résultats nous ne pouvons commenter intelligemment.\n",
    "On peut supposer qu'en augmentant le nombre de simulations, \n",
    "1O: La suite Mn approche de plus en plus fidèlement une valeur moyenne\n",
    "11:L'histogramme est de plus en plus resserré autour de la valeur moyenne\n",
    "12: L'intervalle dont la longueur est en 1/(n¨0.5) se réduit\n",
    "13: la probabilité de dépasser 525m diminue, si tant es que la valeur moyenne soit inférieure à 525. (augmente sinon)"
   ]
  },
  {
   "cell_type": "code",
   "execution_count": null,
   "metadata": {},
   "outputs": [],
   "source": []
  }
 ],
 "metadata": {
  "kernelspec": {
   "display_name": "Python 3",
   "language": "python",
   "name": "python3"
  },
  "language_info": {
   "codemirror_mode": {
    "name": "ipython",
    "version": 3
   },
   "file_extension": ".py",
   "mimetype": "text/x-python",
   "name": "python",
   "nbconvert_exporter": "python",
   "pygments_lexer": "ipython3",
   "version": "3.7.3"
  }
 },
 "nbformat": 4,
 "nbformat_minor": 2
}
